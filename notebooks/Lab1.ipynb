{
 "cells": [
  {
   "cell_type": "markdown",
   "source": [
    "# Chroma key implementation"
   ],
   "metadata": {
    "collapsed": false
   }
  },
  {
   "cell_type": "code",
   "execution_count": 12,
   "outputs": [],
   "source": [
    "import numpy as np\n",
    "import cv2 as cv\n",
    "import time"
   ],
   "metadata": {
    "collapsed": false
   }
  },
  {
   "cell_type": "code",
   "execution_count": 17,
   "outputs": [],
   "source": [
    "img_size = (480, 270)\n",
    "lower_bound = np.array([0, 180, 0])\n",
    "upper_bound = np.array([130,255,130])\n",
    "video_path = '../data/chroma.mp4'\n",
    "replacement_path = '../data/map.jpg'"
   ],
   "metadata": {
    "collapsed": false
   }
  },
  {
   "cell_type": "code",
   "execution_count": 18,
   "outputs": [],
   "source": [
    "def process_video(video_path, replacement_path, img_size, lower_bound, upper_bound, process_func):\n",
    "    start = time.time()\n",
    "    is_chroma = 0\n",
    "    video = cv.VideoCapture(video_path)\n",
    "    replacement = cv.resize(cv.imread(replacement_path), img_size)\n",
    "    while video.isOpened():\n",
    "        ret, frame = video.read()\n",
    "        if not ret:\n",
    "            break\n",
    "\n",
    "        key = cv.waitKey(10)\n",
    "        if key == ord('q'):\n",
    "            break\n",
    "        elif key != -1:\n",
    "            is_chroma = (is_chroma + 1) % 2\n",
    "\n",
    "        frame = cv.resize(frame, img_size)\n",
    "\n",
    "        if is_chroma:\n",
    "            frame = process_func(frame, replacement, lower_bound, upper_bound)\n",
    "\n",
    "        cv.imshow('frame', frame)\n",
    "    video.release()\n",
    "    cv.destroyAllWindows()\n",
    "    end = time.time()\n",
    "    return end-start"
   ],
   "metadata": {
    "collapsed": false
   }
  },
  {
   "cell_type": "markdown",
   "source": [
    "### Opencv builtin function"
   ],
   "metadata": {
    "collapsed": false
   }
  },
  {
   "cell_type": "code",
   "execution_count": 19,
   "outputs": [],
   "source": [
    "def chroma_opencv(frame, replacement, lower_bound, upper_bound):\n",
    "    mask = cv.inRange(frame, lower_bound, upper_bound)\n",
    "    res = cv.bitwise_and(frame, frame, mask = mask)\n",
    "    frame = frame - res\n",
    "    frame = np.where(frame != 0, frame, replacement)\n",
    "    return frame"
   ],
   "metadata": {
    "collapsed": false
   }
  },
  {
   "cell_type": "code",
   "execution_count": 21,
   "outputs": [
    {
     "name": "stdout",
     "output_type": "stream",
     "text": [
      "19.97\n"
     ]
    }
   ],
   "source": [
    "time_spent = process_video(video_path, replacement_path, img_size, lower_bound, upper_bound, chroma_opencv)\n",
    "print(round(time_spent, 2))"
   ],
   "metadata": {
    "collapsed": false
   }
  },
  {
   "cell_type": "markdown",
   "source": [
    "### Only python implementation"
   ],
   "metadata": {
    "collapsed": false
   }
  },
  {
   "cell_type": "code",
   "execution_count": 22,
   "outputs": [],
   "source": [
    "def chroma_python(frame, replacement, lower_bound, upper_bound):\n",
    "    if frame.shape != replacement.shape:\n",
    "        return frame\n",
    "\n",
    "    for i in range(frame.shape[0]):\n",
    "        for j in range(frame.shape[1]):\n",
    "            pixel = frame[i][j]\n",
    "            if lower_bound[0] <= pixel[0] <= upper_bound[0] and lower_bound[1] <= pixel[1] <= upper_bound[1] and lower_bound[2] <= pixel[2] <= upper_bound[2]:\n",
    "                frame[i][j] = replacement[i][j]\n",
    "    return frame"
   ],
   "metadata": {
    "collapsed": false
   }
  },
  {
   "cell_type": "code",
   "execution_count": 23,
   "outputs": [
    {
     "name": "stdout",
     "output_type": "stream",
     "text": [
      "528.42\n"
     ]
    }
   ],
   "source": [
    "time_spent = process_video(video_path, replacement_path, img_size, lower_bound, upper_bound, chroma_python)\n",
    "print(round(time_spent, 2))"
   ],
   "metadata": {
    "collapsed": false
   }
  },
  {
   "cell_type": "markdown",
   "source": [
    "### JIT implementation"
   ],
   "metadata": {
    "collapsed": false
   }
  },
  {
   "cell_type": "code",
   "execution_count": 24,
   "outputs": [],
   "source": [
    "from numba import jit"
   ],
   "metadata": {
    "collapsed": false
   }
  },
  {
   "cell_type": "code",
   "execution_count": 35,
   "outputs": [],
   "source": [
    "@jit\n",
    "def chroma_jit(frame, replacement, lower_bound, upper_bound):\n",
    "    if frame.shape != replacement.shape:\n",
    "        return frame\n",
    "\n",
    "    for i in range(frame.shape[0]):\n",
    "        for j in range(frame.shape[1]):\n",
    "            pixel = frame[i][j]\n",
    "            if lower_bound[0] <= pixel[0] <= upper_bound[0] and lower_bound[1] <= pixel[1] <= upper_bound[1] and lower_bound[2] <= pixel[2] <= upper_bound[2]:\n",
    "                frame[i][j] = replacement[i][j]\n",
    "    return frame"
   ],
   "metadata": {
    "collapsed": false
   }
  },
  {
   "cell_type": "code",
   "execution_count": 36,
   "outputs": [
    {
     "name": "stdout",
     "output_type": "stream",
     "text": [
      "21.44\n"
     ]
    }
   ],
   "source": [
    "time_spent = process_video(video_path, replacement_path, img_size, lower_bound, upper_bound, chroma_jit)\n",
    "print(round(time_spent, 2))"
   ],
   "metadata": {
    "collapsed": false
   }
  },
  {
   "cell_type": "code",
   "execution_count": null,
   "outputs": [],
   "source": [],
   "metadata": {
    "collapsed": false
   }
  }
 ],
 "metadata": {
  "kernelspec": {
   "display_name": "Python 3 (ipykernel)",
   "language": "python",
   "name": "python3"
  },
  "language_info": {
   "codemirror_mode": {
    "name": "ipython",
    "version": 3
   },
   "file_extension": ".py",
   "mimetype": "text/x-python",
   "name": "python",
   "nbconvert_exporter": "python",
   "pygments_lexer": "ipython3",
   "version": "3.10.7"
  }
 },
 "nbformat": 4,
 "nbformat_minor": 5
}
